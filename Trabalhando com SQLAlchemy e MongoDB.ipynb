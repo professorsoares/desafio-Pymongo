{
 "cells": [
  {
   "cell_type": "markdown",
   "id": "2aba0fd1",
   "metadata": {},
   "source": [
    "# Fazendo com SQL Alchemy"
   ]
  },
  {
   "cell_type": "markdown",
   "id": "7b87e657",
   "metadata": {},
   "source": [
    "# Parte 2 – Implementando um Banco de Dados NoSQL com Pymongo\n",
    "\n",
    "Você irá implementar um banco NoSQL com mongodb para fornecer uma visão agregada do modelo relacional. Sendo assim, as informações de cliente e contas existentes estão contidas dentro de documentos de acordo com cliente.\n",
    "Execute as operações:\n",
    "Conecte ao mongo atlas e crie um banco de dados\n",
    "Defina uma coleção bank para criar os documetos de clientes\n",
    "Insira documentos com a estrutura mencionada\n",
    "Escreve instruções de recuperação de informações com base nos pares de chave e valor como feito em aula\n"
   ]
  },
  {
   "cell_type": "code",
   "execution_count": 1,
   "id": "ce5473d0",
   "metadata": {},
   "outputs": [
    {
     "name": "stdout",
     "output_type": "stream",
     "text": [
      "Requirement already satisfied: pymongo in d:\\programas\\anaconda3\\lib\\site-packages (4.3.3)\n",
      "Requirement already satisfied: dnspython<3.0.0,>=1.16.0 in d:\\programas\\anaconda3\\lib\\site-packages (from pymongo) (2.1.0)\n"
     ]
    }
   ],
   "source": [
    "#!pip install pymongo"
   ]
  },
  {
   "cell_type": "code",
   "execution_count": 1,
   "id": "87a1fe80",
   "metadata": {},
   "outputs": [],
   "source": [
    "from pymongo import MongoClient\n",
    "\n",
    "# Connect to MongoDB\n",
    "client = MongoClient('mongodb://localhost:27017')\n",
    "\n",
    "# Select the database\n",
    "db = client['teste2']\n",
    "\n",
    "# Define the Cliente collection\n",
    "cliente_collection = db['Cliente']\n",
    "\n",
    "# Define the Conta collection\n",
    "conta_collection = db['Conta']\n",
    "\n",
    "# Define the Cliente class\n",
    "class Cliente:\n",
    "    def __init__(self, id, nome, cpf, endereco):\n",
    "        self.id = id\n",
    "        self.nome = nome\n",
    "        self.cpf = cpf\n",
    "        self.endereco = endereco\n",
    "    \n",
    "    def nome(self):\n",
    "        return self.nome\n",
    "    \n",
    "    def save(self):\n",
    "        cliente_collection.insert_one({\n",
    "            'id': self.id,\n",
    "            'nome': self.nome,\n",
    "            'cpf': self.cpf,\n",
    "            'endereco': self.endereco\n",
    "        })\n",
    "\n",
    "# Define the Conta class\n",
    "class Conta:\n",
    "    def __init__(self, id, tipo, agencia, num, id_cliente, saldo):\n",
    "        self.id = id\n",
    "        self.tipo = tipo\n",
    "        self.agencia = agencia\n",
    "        self.num = num\n",
    "        self.id_cliente = id_cliente\n",
    "        self.saldo = saldo\n",
    "    \n",
    "    \n",
    "    def save(self):\n",
    "        conta_collection.insert_one({\n",
    "            'id': self.id,\n",
    "            'tipo': self.tipo,\n",
    "            'agencia': self.agencia,\n",
    "            'num': self.num,\n",
    "            'id_cliente': self.id_cliente,\n",
    "            'saldo': self.saldo\n",
    "        })\n",
    "        "
   ]
  },
  {
   "cell_type": "code",
   "execution_count": 2,
   "id": "11243d0d",
   "metadata": {},
   "outputs": [],
   "source": [
    "# Insert data into Cliente table\n",
    "cliente1 = Cliente(id=1, nome='Bruno Soares', cpf='12345678901', endereco='Rua 1, 123').save()\n",
    "cliente2 = Cliente(id=2, nome='Bruno dos Santos', cpf='12345678966', endereco='Rua 2, 789').save()\n",
    "cliente3 = Cliente(id=3, nome='Joaquim', cpf='98765432109', endereco='Rua 3, 456').save()\n"
   ]
  },
  {
   "cell_type": "code",
   "execution_count": 3,
   "id": "f40a2464",
   "metadata": {},
   "outputs": [],
   "source": [
    "\n",
    "\n",
    "# Insert data into Conta table\n",
    "conta1 = Conta(id=1, tipo='Poupança', agencia='001', num=12345, id_cliente=1, saldo=1000.00).save()\n",
    "conta2 = Conta(id=2, tipo='Corrente', agencia='002', num=54321, id_cliente=2, saldo=500.50).save()"
   ]
  },
  {
   "cell_type": "code",
   "execution_count": 6,
   "id": "5fdfd0a8",
   "metadata": {},
   "outputs": [
    {
     "name": "stdout",
     "output_type": "stream",
     "text": [
      "{'_id': ObjectId('649b9db21f69ffc57737df64'), 'id': 1, 'nome': 'Bruno Soares', 'cpf': '12345678901', 'endereco': 'Rua 1, 123'}\n"
     ]
    }
   ],
   "source": [
    "result = cliente_collection.find({'nome': 'Bruno Soares'})\n",
    "for document in result:\n",
    "    print(document)\n"
   ]
  },
  {
   "cell_type": "code",
   "execution_count": 7,
   "id": "e3439cd0",
   "metadata": {},
   "outputs": [
    {
     "name": "stdout",
     "output_type": "stream",
     "text": [
      "{'_id': ObjectId('648b15cd009cbec9692e4d50'), 'id': 1, 'nome': 'Bruno Soares 00', 'cpf': '02345678901', 'endereco': 'Rua 0, 123'}\n",
      "{'_id': ObjectId('648b15ef009cbec9692e4d51'), 'id': 1, 'nome': 'Bruno Soares 00', 'cpf': '02345678901', 'endereco': 'Rua 0, 123'}\n",
      "{'_id': ObjectId('648b1637009cbec9692e4d52'), 'id': 2, 'nome': 'Bruno dos Santos', 'cpf': '12345678966', 'endereco': 'Rua 2, 789'}\n",
      "{'_id': ObjectId('649b9db21f69ffc57737df64'), 'id': 1, 'nome': 'Bruno Soares', 'cpf': '12345678901', 'endereco': 'Rua 1, 123'}\n",
      "{'_id': ObjectId('649b9db21f69ffc57737df65'), 'id': 2, 'nome': 'Bruno dos Santos', 'cpf': '12345678966', 'endereco': 'Rua 2, 789'}\n"
     ]
    }
   ],
   "source": [
    "import re\n",
    "\n",
    "# Define the first name to search\n",
    "first_name = 'Bruno'\n",
    "\n",
    "# Construct the regular expression pattern\n",
    "pattern = re.compile(f'^{first_name}', re.IGNORECASE)\n",
    "\n",
    "# Find clientes by first name\n",
    "result = cliente_collection.find({'nome': {'$regex': pattern}})\n",
    "for document in result:\n",
    "    print(document)"
   ]
  },
  {
   "cell_type": "code",
   "execution_count": 8,
   "id": "bf5f5ebc",
   "metadata": {},
   "outputs": [
    {
     "name": "stdout",
     "output_type": "stream",
     "text": [
      "6\n",
      "{'_id': ObjectId('648b15cd009cbec9692e4d50'), 'id': 1, 'nome': 'Bruno Soares 00', 'cpf': '02345678901', 'endereco': 'Rua 0, 123'}\n"
     ]
    }
   ],
   "source": [
    "result = cliente_collection.find_one({'nome': 'Bruno Soares 00'})\n",
    "print(cliente_collection.estimated_document_count())\n",
    "\n",
    "print(result)\n"
   ]
  },
  {
   "cell_type": "code",
   "execution_count": 9,
   "id": "f2ac52dd",
   "metadata": {},
   "outputs": [
    {
     "name": "stdout",
     "output_type": "stream",
     "text": [
      "Total de Clientes: 6\n",
      "Total de Contas  : 4\n"
     ]
    }
   ],
   "source": [
    "# TOTAL DE DOCUMENTOS NO BD\n",
    "print(\"Total de Clientes: \" + str(cliente_collection.estimated_document_count()))\n",
    "print(\"Total de Contas  : \" + str(conta_collection.estimated_document_count()))\n"
   ]
  },
  {
   "cell_type": "code",
   "execution_count": 10,
   "id": "3ad4745a",
   "metadata": {},
   "outputs": [
    {
     "name": "stdout",
     "output_type": "stream",
     "text": [
      "{'_id': ObjectId('648b1ad2009cbec9692e4d53'), 'id': 1, 'tipo': 'Poupança', 'agencia': '001', 'num': 12345, 'id_cliente': 1, 'saldo': 1000.0}\n",
      "{'_id': ObjectId('649b9db51f69ffc57737df67'), 'id': 1, 'tipo': 'Poupança', 'agencia': '001', 'num': 12345, 'id_cliente': 1, 'saldo': 1000.0}\n"
     ]
    }
   ],
   "source": [
    "\n",
    "result = conta_collection.find({'id_cliente': 1, 'tipo': 'Poupança'})\n",
    "for document in result:\n",
    "    print(document)\n"
   ]
  },
  {
   "cell_type": "code",
   "execution_count": 11,
   "id": "44379d0f",
   "metadata": {},
   "outputs": [
    {
     "name": "stdout",
     "output_type": "stream",
     "text": [
      "{'_id': ObjectId('648b1ad2009cbec9692e4d53'), 'id': 1, 'tipo': 'Poupança', 'agencia': '001', 'num': 12345, 'id_cliente': 1, 'saldo': 1000.0}\n",
      "{'_id': ObjectId('649b9db51f69ffc57737df67'), 'id': 1, 'tipo': 'Poupança', 'agencia': '001', 'num': 12345, 'id_cliente': 1, 'saldo': 1000.0}\n"
     ]
    }
   ],
   "source": [
    "result = conta_collection.find({'saldo': {'$gt': 900}})\n",
    "for document in result:\n",
    "    print(document)\n"
   ]
  }
 ],
 "metadata": {
  "kernelspec": {
   "display_name": "Python 3",
   "language": "python",
   "name": "python3"
  },
  "language_info": {
   "codemirror_mode": {
    "name": "ipython",
    "version": 3
   },
   "file_extension": ".py",
   "mimetype": "text/x-python",
   "name": "python",
   "nbconvert_exporter": "python",
   "pygments_lexer": "ipython3",
   "version": "3.8.8"
  }
 },
 "nbformat": 4,
 "nbformat_minor": 5
}
